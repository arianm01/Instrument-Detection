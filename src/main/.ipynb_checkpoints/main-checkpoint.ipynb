{
 "cells": [
  {
   "metadata": {
    "ExecuteTime": {
     "end_time": "2024-08-13T12:04:45.875897Z",
     "start_time": "2024-08-13T12:04:45.870418Z"
    }
   },
   "cell_type": "code",
   "source": [
    "import os\n",
    "\n",
    "import numpy as np\n",
    "import librosa\n",
    "from keras.callbacks import ModelCheckpoint, LearningRateScheduler\n",
    "from keras.models import load_model\n",
    "from keras.utils.version_utils import callbacks\n",
    "from sklearn.model_selection import StratifiedKFold, train_test_split"
   ],
   "id": "7af0c266067e769f",
   "outputs": [],
   "execution_count": 3
  },
  {
   "metadata": {},
   "cell_type": "code",
   "outputs": [],
   "execution_count": 1,
   "source": [
    "from src.utility import InstrumentDataset\n",
    "\n",
    "\n",
    "def load_data():\n",
    "    \"\"\" Load and preprocess data \"\"\"\n",
    "    x, y, classes = InstrumentDataset.read_data('../../Dataset', MERGE_FACTOR, TIME_FRAME,\n",
    "                                                folder='../../Models/splits/train')\n",
    "    # x, y, classes = InstrumentDataset.read_data('../../archive/NavaDataset/Data/', MERGE_FACTOR, TIME_FRAME)\n",
    "    print(np.array(x).shape)\n",
    "    X = np.array(x)[..., np.newaxis]  # Add an extra dimension for the channels\n",
    "    print(f'The shape of X is {X.shape}')\n",
    "    print(f'The shape of y is {y.shape}')\n",
    "    return X, y, classes"
   ],
   "id": "af84c3e2a18a5c4e"
  },
  {
   "metadata": {
    "ExecuteTime": {
     "end_time": "2024-08-13T12:11:53.665767Z",
     "start_time": "2024-08-13T12:04:51.816639Z"
    }
   },
   "cell_type": "code",
   "source": [
    "TIME_FRAME = 1\n",
    "MERGE_FACTOR = 5\n",
    "x, y, classes = load_data()"
   ],
   "id": "4f7929b59a781ee6",
   "outputs": [
    {
     "name": "stdout",
     "output_type": "stream",
     "text": [
      "['Tar', 'Kamancheh', 'Santur', 'Setar', 'Ney']\n",
      "Tar\n"
     ]
    },
    {
     "name": "stderr",
     "output_type": "stream",
     "text": [
      "100%|██████████| 7646/7646 [00:51<00:00, 148.65it/s]\n"
     ]
    },
    {
     "name": "stdout",
     "output_type": "stream",
     "text": [
      "Kamancheh\n"
     ]
    },
    {
     "name": "stderr",
     "output_type": "stream",
     "text": [
      "100%|██████████| 8039/8039 [00:57<00:00, 138.94it/s]\n"
     ]
    },
    {
     "name": "stdout",
     "output_type": "stream",
     "text": [
      "Santur\n"
     ]
    },
    {
     "name": "stderr",
     "output_type": "stream",
     "text": [
      "100%|██████████| 7856/7856 [00:55<00:00, 140.73it/s]\n"
     ]
    },
    {
     "name": "stdout",
     "output_type": "stream",
     "text": [
      "Setar\n"
     ]
    },
    {
     "name": "stderr",
     "output_type": "stream",
     "text": [
      " 82%|████████▏ | 9901/12132 [01:22<00:18, 120.01it/s]\n"
     ]
    },
    {
     "name": "stdout",
     "output_type": "stream",
     "text": [
      "Ney\n"
     ]
    },
    {
     "name": "stderr",
     "output_type": "stream",
     "text": [
      "100%|██████████| 8134/8134 [01:02<00:00, 130.71it/s]\n"
     ]
    },
    {
     "name": "stdout",
     "output_type": "stream",
     "text": [
      "8640\n",
      "Class: 0\n",
      "Class Indices: [   0    1    2 ... 5873 5874 5875]\n",
      "Class Indices Type: <class 'numpy.ndarray'>\n",
      "Class Indices Dtype: int64\n",
      "x Shape: (33813, 216, 64)\n"
     ]
    },
    {
     "name": "stderr",
     "output_type": "stream",
     "text": [
      "G:\\PycharmProjects\\Thesis\\.venv\\lib\\site-packages\\librosa\\core\\spectrum.py:257: UserWarning: n_fft=2048 is too large for input signal of length=216\n",
      "  warnings.warn(\n"
     ]
    },
    {
     "name": "stdout",
     "output_type": "stream",
     "text": [
      "Class: 1\n",
      "Class Indices: [ 5876  5877  5878 ... 12490 12491 12492]\n",
      "Class Indices Type: <class 'numpy.ndarray'>\n",
      "Class Indices Dtype: int64\n",
      "x Shape: (33813, 216, 64)\n",
      "Class: 2\n",
      "Class Indices: [12493 12494 12495 ... 18679 18680 18681]\n",
      "Class Indices Type: <class 'numpy.ndarray'>\n",
      "Class Indices Dtype: int64\n",
      "x Shape: (33813, 216, 64)\n",
      "Class: 3\n",
      "Class Indices: [18682 18683 18684 ... 27319 27320 27321]\n",
      "Class Indices Type: <class 'numpy.ndarray'>\n",
      "Class Indices Dtype: int64\n",
      "x Shape: (33813, 216, 64)\n",
      "Class: 4\n",
      "Class Indices: [27322 27323 27324 ... 33810 33811 33812]\n",
      "Class Indices Type: <class 'numpy.ndarray'>\n",
      "Class Indices Dtype: int64\n",
      "x Shape: (33813, 216, 64)\n",
      "[[-80.         -80.         -80.         ... -80.         -80.\n",
      "  -80.        ]\n",
      " [-80.         -80.         -80.         ... -80.         -80.\n",
      "  -80.        ]\n",
      " [-80.         -80.         -80.         ... -80.         -80.\n",
      "  -80.        ]\n",
      " ...\n",
      " [-26.5782299  -22.51656914 -22.23013115 ... -37.69318008 -37.37367249\n",
      "  -40.00380325]\n",
      " [-25.92939377 -22.3690567  -22.94311714 ... -37.42435074 -37.79062653\n",
      "  -39.68937302]\n",
      " [-26.2985096  -22.8375988  -23.22224236 ... -38.89030838 -38.96084976\n",
      "  -39.2273674 ]] 43200\n",
      "(43200, 216, 64)\n",
      "The shape of X is (43200, 216, 64, 1)\n",
      "The shape of y is (43200, 5)\n"
     ]
    }
   ],
   "execution_count": 4
  },
  {
   "metadata": {
    "ExecuteTime": {
     "end_time": "2024-08-13T12:42:09.011204Z",
     "start_time": "2024-08-13T12:42:08.998687Z"
    }
   },
   "cell_type": "code",
   "source": [
    "def get_encoder(x_train, y_train, x_test, y_test, batch_size, num_epochs, fold_no, input_shape, early_stopping):\n",
    "    # model_checkpoint_path = f'model_best_encoder_{fold_no}.keras'\n",
    "    # model_checkpoint_callback = ModelCheckpoint(\n",
    "    #     filepath=model_checkpoint_path, save_best_only=True, monitor='val_loss', mode='min', verbose=1)\n",
    "    # \n",
    "    # temperature = 0.05\n",
    "    # \n",
    "    # layer_sizes = [512, 256, 128, 64]\n",
    "    # \n",
    "    # encoder = create_encoder(layer_sizes, input_shape)\n",
    "    # \n",
    "    # encoder_with_projection_head = add_projection_head(encoder, input_shape)\n",
    "    # encoder_with_projection_head.compile(\n",
    "    #     optimizer=keras.optimizers.Adam(learning_rate),\n",
    "    #     loss=SupervisedContrastiveLoss(temperature),\n",
    "    # )\n",
    "    # \n",
    "    # encoder_with_projection_head.summary()\n",
    "    # \n",
    "    # encoder_with_projection_head.fit(\n",
    "    #     x=x_train, y=y_train, batch_size=batch_size, validation_data=(x_test, y_test), epochs=num_epochs,\n",
    "    #     callbacks=[model_checkpoint_callback, early_stopping]\n",
    "    # )\n",
    "\n",
    "    encoder = load_model('../../model_best_encoder_3.keras', custom_objects={\n",
    "        'SupervisedContrastiveLoss': SupervisedContrastiveLoss\n",
    "    }).layers[1]\n",
    "    return encoder"
   ],
   "id": "a81818250b7300b0",
   "outputs": [],
   "execution_count": 25
  },
  {
   "metadata": {
    "ExecuteTime": {
     "end_time": "2024-08-13T12:42:10.912309Z",
     "start_time": "2024-08-13T12:42:10.903308Z"
    }
   },
   "cell_type": "code",
   "source": [
    "from src.Instrument.Contrastive import SupervisedContrastiveLoss, create_classifier, create_encoder, \\\n",
    "    add_projection_head, learning_rate\n",
    "from keras.callbacks import EarlyStopping\n",
    "from tensorflow import keras\n",
    "\n",
    "\n",
    "def train_contrastive_model(x, y, num_classes):\n",
    "    \"\"\" Train Siamese network using contrastive learning \"\"\"\n",
    "    n_splits = 5\n",
    "    if y.ndim > 1:\n",
    "        y_labels = np.argmax(y, axis=1)\n",
    "    else:\n",
    "        y_labels = y\n",
    "\n",
    "    skf = StratifiedKFold(n_splits=n_splits, shuffle=True, random_state=42)\n",
    "    histories = []\n",
    "\n",
    "    for fold_no, (train_index, test_index) in enumerate(skf.split(x, y_labels), start=1):\n",
    "        x_train, x_test = x[train_index], x[test_index]\n",
    "        y_train, y_test = y_labels[train_index], y_labels[test_index]\n",
    "        input_shape = (x_train.shape[1], x_train.shape[2], 1)\n",
    "        if fold_no < 3:\n",
    "            continue\n",
    "        model_path = f'model_best_classifier_{fold_no}.keras'\n",
    "        model_callback = ModelCheckpoint(\n",
    "            filepath=model_path, save_best_only=True, monitor='val_loss', mode='min', verbose=1)\n",
    "        early_stopping = EarlyStopping(monitor='val_loss', patience=10, restore_best_weights=True)\n",
    "        num_epochs = 100\n",
    "        batch_size = 12\n",
    "\n",
    "        encoder = get_encoder(x_train, y_train, x_test, y_test, batch_size, num_epochs, fold_no, input_shape, early_stopping)\n",
    "\n",
    "        classifier = create_classifier(encoder, num_classes, input_shape, trainable=False)\n",
    "\n",
    "        classifier.summary()\n",
    "        \n",
    "        history = classifier.fit(x=x_train, y=y_train, batch_size=batch_size, epochs=num_epochs,\n",
    "                                 validation_data=(x_test, y_test), callbacks=[model_callback, early_stopping])\n",
    "\n",
    "        accuracy = classifier.evaluate(x_test, y_test)[1]\n",
    "        print(f\"Test accuracy: {round(accuracy * 100, 2)}%\")\n",
    "\n",
    "        histories.append(history)\n",
    "        fold_no += 1\n",
    "\n",
    "    return histories\n"
   ],
   "id": "189f94dad9b5e850",
   "outputs": [],
   "execution_count": 26
  },
  {
   "metadata": {
    "ExecuteTime": {
     "end_time": "2024-08-13T12:42:12.231741Z",
     "start_time": "2024-08-13T12:42:12.177513Z"
    }
   },
   "cell_type": "code",
   "source": "histories = train_contrastive_model(x, y, len(classes))",
   "id": "ec6266f888143620",
   "outputs": [
    {
     "ename": "MemoryError",
     "evalue": "Unable to allocate 3.56 GiB for an array with shape (34560, 216, 64, 1) and data type float64",
     "output_type": "error",
     "traceback": [
      "\u001B[1;31m---------------------------------------------------------------------------\u001B[0m",
      "\u001B[1;31mMemoryError\u001B[0m                               Traceback (most recent call last)",
      "Cell \u001B[1;32mIn[27], line 1\u001B[0m\n\u001B[1;32m----> 1\u001B[0m histories \u001B[38;5;241m=\u001B[39m \u001B[43mtrain_contrastive_model\u001B[49m\u001B[43m(\u001B[49m\u001B[43mx\u001B[49m\u001B[43m,\u001B[49m\u001B[43m \u001B[49m\u001B[43my\u001B[49m\u001B[43m,\u001B[49m\u001B[43m \u001B[49m\u001B[38;5;28;43mlen\u001B[39;49m\u001B[43m(\u001B[49m\u001B[43mclasses\u001B[49m\u001B[43m)\u001B[49m\u001B[43m)\u001B[49m\n",
      "Cell \u001B[1;32mIn[26], line 19\u001B[0m, in \u001B[0;36mtrain_contrastive_model\u001B[1;34m(x, y, num_classes)\u001B[0m\n\u001B[0;32m     16\u001B[0m histories \u001B[38;5;241m=\u001B[39m []\n\u001B[0;32m     18\u001B[0m \u001B[38;5;28;01mfor\u001B[39;00m fold_no, (train_index, test_index) \u001B[38;5;129;01min\u001B[39;00m \u001B[38;5;28menumerate\u001B[39m(skf\u001B[38;5;241m.\u001B[39msplit(x, y_labels), start\u001B[38;5;241m=\u001B[39m\u001B[38;5;241m1\u001B[39m):\n\u001B[1;32m---> 19\u001B[0m     x_train, x_test \u001B[38;5;241m=\u001B[39m \u001B[43mx\u001B[49m\u001B[43m[\u001B[49m\u001B[43mtrain_index\u001B[49m\u001B[43m]\u001B[49m, x[test_index]\n\u001B[0;32m     20\u001B[0m     y_train, y_test \u001B[38;5;241m=\u001B[39m y_labels[train_index], y_labels[test_index]\n\u001B[0;32m     21\u001B[0m     input_shape \u001B[38;5;241m=\u001B[39m (x_train\u001B[38;5;241m.\u001B[39mshape[\u001B[38;5;241m1\u001B[39m], x_train\u001B[38;5;241m.\u001B[39mshape[\u001B[38;5;241m2\u001B[39m], \u001B[38;5;241m1\u001B[39m)\n",
      "\u001B[1;31mMemoryError\u001B[0m: Unable to allocate 3.56 GiB for an array with shape (34560, 216, 64, 1) and data type float64"
     ]
    }
   ],
   "execution_count": 27
  }
 ],
 "metadata": {
  "kernelspec": {
   "display_name": "Python 3",
   "language": "python",
   "name": "python3"
  },
  "language_info": {
   "codemirror_mode": {
    "name": "ipython",
    "version": 2
   },
   "file_extension": ".py",
   "mimetype": "text/x-python",
   "name": "python",
   "nbconvert_exporter": "python",
   "pygments_lexer": "ipython2",
   "version": "2.7.6"
  }
 },
 "nbformat": 4,
 "nbformat_minor": 5
}
