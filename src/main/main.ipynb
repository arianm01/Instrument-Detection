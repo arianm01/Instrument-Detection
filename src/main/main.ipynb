{
 "cells": [
  {
   "cell_type": "code",
   "execution_count": null,
   "id": "initial_id",
   "metadata": {
    "collapsed": true
   },
   "outputs": [],
   "source": [
    "from src.main.main import load_data\n",
    "\n",
    "x, y, classes = load_data()"
   ]
  },
  {
   "metadata": {},
   "cell_type": "code",
   "outputs": [],
   "execution_count": null,
   "source": [
    "from sklearn.model_selection import StratifiedKFold\n",
    "import numpy as np\n",
    "\n",
    "n_splits = 1\n",
    "if y.ndim > 1:\n",
    "    y_labels = np.argmax(y, axis=1)\n",
    "else:\n",
    "    y_labels = y\n",
    "\n",
    "skf = StratifiedKFold(n_splits=n_splits, shuffle=True, random_state=42)\n",
    "histories = []\n",
    "\n",
    "for fold_no, (train_index, test_index) in enumerate(skf.split(x, y_labels), start=1):\n",
    "    x_train, x_test = x[train_index], x[test_index]\n",
    "    y_train, y_test = y_labels[train_index], y_labels[test_index]\n",
    "    y_tr, y_te = y[train_index], y[test_index]"
   ],
   "id": "612198695ecb3d66"
  },
  {
   "metadata": {},
   "cell_type": "code",
   "outputs": [],
   "execution_count": null,
   "source": "",
   "id": "596b8551af0a8ff0"
  }
 ],
 "metadata": {
  "kernelspec": {
   "display_name": "Python 3",
   "language": "python",
   "name": "python3"
  },
  "language_info": {
   "codemirror_mode": {
    "name": "ipython",
    "version": 2
   },
   "file_extension": ".py",
   "mimetype": "text/x-python",
   "name": "python",
   "nbconvert_exporter": "python",
   "pygments_lexer": "ipython2",
   "version": "2.7.6"
  }
 },
 "nbformat": 4,
 "nbformat_minor": 5
}
